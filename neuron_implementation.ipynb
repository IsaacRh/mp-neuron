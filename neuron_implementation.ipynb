{
 "cells": [
  {
   "cell_type": "markdown",
   "id": "19772ed5e1cca078",
   "metadata": {},
   "source": [
    "NPNeuron Implementation"
   ]
  },
  {
   "cell_type": "code",
   "id": "initial_id",
   "metadata": {
    "ExecuteTime": {
     "end_time": "2024-08-24T19:02:22.263002Z",
     "start_time": "2024-08-24T19:02:22.235500Z"
    }
   },
   "source": [
    "import numpy as np\n",
    "\n",
    "class MPNeuron:\n",
    "    def __init__(self):\n",
    "        self.threshold = None # es  un número que se define de manera manual para identificar la cantidad de entradas que deben de estar activas\n",
    "    \n",
    "    def model(self, entry):\n",
    "        # se procesan las caracteristicas de entrada\n",
    "        # entry: [1, 0, 1, 0] [x1, x2, x3, x4, ..., xn]\n",
    "        z = sum(entry) # función de agregación\n",
    "        return z >= self.threshold\n",
    "    \n",
    "    def predict(self, entries):\n",
    "        # entries : [[1, 0, 1, 0], [1, 0, 1, 0]]\n",
    "        results = []\n",
    "        for entry in entries:\n",
    "            result = self.model(entry)\n",
    "            results.append(result)\n",
    "        return np.array(results)\n",
    "    \n"
   ],
   "outputs": [],
   "execution_count": 4
  },
  {
   "cell_type": "code",
   "execution_count": 2,
   "id": "ed58ec24ade2727c",
   "metadata": {},
   "outputs": [],
   "source": [
    "mp_neuron = MPNeuron()\n",
    "mp_neuron.threshold = 3"
   ]
  },
  {
   "cell_type": "code",
   "execution_count": 3,
   "id": "93a3b428463f6f6f",
   "metadata": {},
   "outputs": [
    {
     "data": {
      "text/plain": [
       "array([False,  True, False])"
      ]
     },
     "execution_count": 3,
     "metadata": {},
     "output_type": "execute_result"
    }
   ],
   "source": [
    "entries = [\n",
    "    [1, 0, 0],\n",
    "    [1, 1, 1],\n",
    "    [0, 1, 1]\n",
    "]\n",
    "\n",
    "mp_neuron.predict(entries)\n"
   ]
  },
  {
   "cell_type": "code",
   "execution_count": null,
   "id": "09753cc0-7899-41d9-a38a-4eb34eba90cb",
   "metadata": {},
   "outputs": [],
   "source": []
  }
 ],
 "metadata": {
  "kernelspec": {
   "display_name": "Python 3 (ipykernel)",
   "language": "python",
   "name": "python3"
  },
  "language_info": {
   "codemirror_mode": {
    "name": "ipython",
    "version": 3
   },
   "file_extension": ".py",
   "mimetype": "text/x-python",
   "name": "python",
   "nbconvert_exporter": "python",
   "pygments_lexer": "ipython3",
   "version": "3.11.0"
  }
 },
 "nbformat": 4,
 "nbformat_minor": 5
}
